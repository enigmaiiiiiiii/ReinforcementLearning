{
 "cells": [
  {
   "cell_type": "code",
   "execution_count": 3,
   "id": "naval-humanity",
   "metadata": {
    "ExecuteTime": {
     "end_time": "2021-02-28T14:59:03.193770Z",
     "start_time": "2021-02-28T14:59:02.935602Z"
    }
   },
   "outputs": [],
   "source": [
    "import numpy as np\n",
    "import matplotlib.pyplot as plt\n",
    "%matplotlib inline\n",
    "import gym\n",
    "\n",
    "\n",
    "def display_frames_as_gif(frames):\n",
    "    plt.figure(figsize=(frames[0].shape[1]/72.0,frames[0].shape[0]/72.0),dpi=72.0)\n",
    "    patch = plt.imshow(frames[0])\n",
    "    plt.axis('off')\n",
    "    \n",
    "    def animate(i):\n",
    "        patch.set_data(framesmes[i])\n",
    "    anim=animation.FuncAnimation(plt.gcf(),animate,frames=len(frames),interval=50)\n",
    "    anim.save('movie_cartpole.mp4')\n",
    "    display(display_animation(anim,default_mode='loop'))"
   ]
  },
  {
   "cell_type": "code",
   "execution_count": 18,
   "id": "encouraging-front",
   "metadata": {
    "ExecuteTime": {
     "end_time": "2021-02-28T10:54:16.972250Z",
     "start_time": "2021-02-28T10:54:16.968239Z"
    }
   },
   "outputs": [],
   "source": [
    "from collections import namedtuple\n",
    "\n",
    "Transition = namedtuple('Transition',('state','action','next_state','reward'))   #相当于定义了一个Transition类"
   ]
  },
  {
   "cell_type": "code",
   "execution_count": 1,
   "outputs": [
    {
     "data": {
      "text/plain": "tensor([[4.5000, 4.5000],\n        [4.5000, 4.5000]])"
     },
     "execution_count": 1,
     "metadata": {},
     "output_type": "execute_result"
    }
   ],
   "source": [
    "import torch\n",
    "\n",
    "x = torch.ones(2,2,requires_grad = True)\n",
    "y = x + 2\n",
    "z = y*y*3\n",
    "out = z.mean()\n",
    "out.backward(retain_graph=True)\n",
    "x.grad"
   ],
   "metadata": {
    "collapsed": false,
    "pycharm": {
     "name": "#%%\n"
    }
   }
  },
  {
   "cell_type": "code",
   "execution_count": 13,
   "outputs": [
    {
     "ename": "RuntimeError",
     "evalue": "Trying to backward through the graph a second time, but the saved intermediate results have already been freed. Specify retain_graph=True when calling backward the first time.",
     "output_type": "error",
     "traceback": [
      "\u001B[1;31m---------------------------------------------------------------------------\u001B[0m",
      "\u001B[1;31mRuntimeError\u001B[0m                              Traceback (most recent call last)",
      "\u001B[1;32m<ipython-input-13-eea50e07d9f2>\u001B[0m in \u001B[0;36m<module>\u001B[1;34m\u001B[0m\n\u001B[0;32m      1\u001B[0m \u001B[0mouy\u001B[0m \u001B[1;33m=\u001B[0m \u001B[0mz\u001B[0m\u001B[1;33m.\u001B[0m\u001B[0msum\u001B[0m\u001B[1;33m(\u001B[0m\u001B[1;33m)\u001B[0m\u001B[1;33m\u001B[0m\u001B[1;33m\u001B[0m\u001B[0m\n\u001B[1;32m----> 2\u001B[1;33m \u001B[0mouy\u001B[0m\u001B[1;33m.\u001B[0m\u001B[0mbackward\u001B[0m\u001B[1;33m(\u001B[0m\u001B[1;33m)\u001B[0m\u001B[1;33m\u001B[0m\u001B[1;33m\u001B[0m\u001B[0m\n\u001B[0m\u001B[0;32m      3\u001B[0m \u001B[0mx\u001B[0m\u001B[1;33m.\u001B[0m\u001B[0mgrad\u001B[0m\u001B[1;33m\u001B[0m\u001B[1;33m\u001B[0m\u001B[0m\n",
      "\u001B[1;32mD:\\Anaconda3\\envs\\lab\\lib\\site-packages\\torch\\tensor.py\u001B[0m in \u001B[0;36mbackward\u001B[1;34m(self, gradient, retain_graph, create_graph)\u001B[0m\n\u001B[0;32m    183\u001B[0m                 \u001B[0mproducts\u001B[0m\u001B[1;33m.\u001B[0m \u001B[0mDefaults\u001B[0m \u001B[0mto\u001B[0m\u001B[0;31m \u001B[0m\u001B[0;31m`\u001B[0m\u001B[0;31m`\u001B[0m\u001B[1;32mFalse\u001B[0m\u001B[0;31m`\u001B[0m\u001B[0;31m`\u001B[0m\u001B[1;33m.\u001B[0m\u001B[1;33m\u001B[0m\u001B[1;33m\u001B[0m\u001B[0m\n\u001B[0;32m    184\u001B[0m         \"\"\"\n\u001B[1;32m--> 185\u001B[1;33m         \u001B[0mtorch\u001B[0m\u001B[1;33m.\u001B[0m\u001B[0mautograd\u001B[0m\u001B[1;33m.\u001B[0m\u001B[0mbackward\u001B[0m\u001B[1;33m(\u001B[0m\u001B[0mself\u001B[0m\u001B[1;33m,\u001B[0m \u001B[0mgradient\u001B[0m\u001B[1;33m,\u001B[0m \u001B[0mretain_graph\u001B[0m\u001B[1;33m,\u001B[0m \u001B[0mcreate_graph\u001B[0m\u001B[1;33m)\u001B[0m\u001B[1;33m\u001B[0m\u001B[1;33m\u001B[0m\u001B[0m\n\u001B[0m\u001B[0;32m    186\u001B[0m \u001B[1;33m\u001B[0m\u001B[0m\n\u001B[0;32m    187\u001B[0m     \u001B[1;32mdef\u001B[0m \u001B[0mregister_hook\u001B[0m\u001B[1;33m(\u001B[0m\u001B[0mself\u001B[0m\u001B[1;33m,\u001B[0m \u001B[0mhook\u001B[0m\u001B[1;33m)\u001B[0m\u001B[1;33m:\u001B[0m\u001B[1;33m\u001B[0m\u001B[1;33m\u001B[0m\u001B[0m\n",
      "\u001B[1;32mD:\\Anaconda3\\envs\\lab\\lib\\site-packages\\torch\\autograd\\__init__.py\u001B[0m in \u001B[0;36mbackward\u001B[1;34m(tensors, grad_tensors, retain_graph, create_graph, grad_variables)\u001B[0m\n\u001B[0;32m    125\u001B[0m     Variable._execution_engine.run_backward(\n\u001B[0;32m    126\u001B[0m         \u001B[0mtensors\u001B[0m\u001B[1;33m,\u001B[0m \u001B[0mgrad_tensors\u001B[0m\u001B[1;33m,\u001B[0m \u001B[0mretain_graph\u001B[0m\u001B[1;33m,\u001B[0m \u001B[0mcreate_graph\u001B[0m\u001B[1;33m,\u001B[0m\u001B[1;33m\u001B[0m\u001B[1;33m\u001B[0m\u001B[0m\n\u001B[1;32m--> 127\u001B[1;33m         allow_unreachable=True)  # allow_unreachable flag\n\u001B[0m\u001B[0;32m    128\u001B[0m \u001B[1;33m\u001B[0m\u001B[0m\n\u001B[0;32m    129\u001B[0m \u001B[1;33m\u001B[0m\u001B[0m\n",
      "\u001B[1;31mRuntimeError\u001B[0m: Trying to backward through the graph a second time, but the saved intermediate results have already been freed. Specify retain_graph=True when calling backward the first time."
     ]
    }
   ],
   "source": [
    "ouy = z.sum()\n",
    "ouy.backward()\n",
    "x.grad"
   ],
   "metadata": {
    "collapsed": false,
    "pycharm": {
     "name": "#%%\n"
    }
   }
  },
  {
   "cell_type": "code",
   "execution_count": null,
   "id": "capital-times",
   "metadata": {
    "ExecuteTime": {
     "end_time": "2021-02-28T14:59:21.483894Z",
     "start_time": "2021-02-28T14:59:21.481886Z"
    }
   },
   "outputs": [],
   "source": [
    "ENV = 'CartPole-v0'\n",
    "GAMMA = 0.99\n",
    "MAX_STEPS = 200\n",
    "NUM_EPISODES = 500\n",
    "CAPACITY = 1000"
   ]
  },
  {
   "cell_type": "code",
   "execution_count": null,
   "id": "corrected-insight",
   "metadata": {
    "ExecuteTime": {
     "end_time": "2021-02-28T15:00:40.192062Z",
     "start_time": "2021-02-28T15:00:40.180311Z"
    }
   },
   "outputs": [],
   "source": [
    "class Agent:\n",
    "    def __init__(self, num_states, num_actions):\n",
    "        self.brain = Brain(num_states, num_actions)    #创建Brain类，Brain类实例化\n",
    "\n",
    "    def update_Q_function(self, observation, action, reward, observation_next):\n",
    "        \"\"\"\n",
    "        执行update_Q_table\n",
    "        \"\"\"\n",
    "        self.brain.replay()\n",
    "\n",
    "    def get_action(self, state, step):\n",
    "        \"\"\"\n",
    "        执行action\"\"\"\n",
    "        action = self.brain.decide_action(state, step)\n",
    "        return action\n",
    "    def memorize(self,state,action,state_next,reward):\n",
    "        self.brain.memory.push(state,action,state_next,reward)\n",
    "        \n",
    "class Environment:\n",
    "    def __init__(self):\n",
    "        self.env = gym.make(ENV)\n",
    "        self.num_states = self.env.observation_space.shape[0]\n",
    "        self.num_actions = self.env.action_space.n\n",
    "        self.agent = Agent(self.num_states,self.num_actions)\n",
    "        \n",
    "    def run(self):\n",
    "        episode_10_list = np.zeros(10)\n",
    "        complete_episodes = 0\n",
    "        episode_final = False\n",
    "        frames = []\n",
    "        is_episode_final = False\n",
    "        for episode in range(NUM_EPISODES):\n",
    "            \n",
    "            observation = self.env.reset()\n",
    "            state = observation\n",
    "            state = torch.from_numpy(state).type(torch.FloatTensor)\n",
    "            state = torch.unsqueeze(state,0)\n",
    "            \"\"\"state赋值+格式转换\"\"\"\n",
    "            \n",
    "            for step in range(MAX_STEPS):\n",
    "                if is_episode_final is True:      #执行最后一次循环，将状态动画加入frames\n",
    "                    frames.append(self.env.render(mode='rgb_array'))\n",
    "                    \n",
    "                action = self.agent.get_actiosn(observation, episode)    # 动作\n",
    "                observation_next, _, done, _ = self.env.step(action.item())  # 执行action，并返回动作后的状态\n",
    "\n",
    "                if done:\n",
    "                    step_next = None\n",
    "                    episode_10_list = np.hstack((episode_10_list[1:],step+1))\n",
    "                    if step < 195:\n",
    "                        reward = torch.FloatTensor([-1.0])\n",
    "                        complete_episodes = 0\n",
    "                    else:\n",
    "                        reward = torch.FloatTensor([1.0])\n",
    "                        complete_episodes += 1\n",
    "                else:\n",
    "                    reward = torch.FloatStorage([0.0])\n",
    "                    state_next = observation_next\n",
    "                    state_next = torch.from_numpy(state_next).type(torch.FloatTensor)\n",
    "                    state_next = torch.unsqueeze(state_next,0)\n",
    "                self.agent.memorize(state, action, state_next, reward)\n",
    "                self.agent.update_Q_function()\n",
    "                state = state_next    \n",
    "                if done:\n",
    "                    print('{0} Episode:Finished after {1} time steps'.format(episode, step+1))\n",
    "                    break\n",
    "\n",
    "            if is_episode_final is True:\n",
    "                display_frames_as_gif(frames)\n",
    "                break\n",
    "                \n",
    "            if complete_episodes >= 10:\n",
    "                print('10回合连续成功')\n",
    "                is_episode_final = True"
   ]
  },
  {
   "cell_type": "code",
   "execution_count": null,
   "id": "complex-samuel",
   "metadata": {
    "ExecuteTime": {
     "end_time": "2021-02-28T14:59:10.998843Z",
     "start_time": "2021-02-28T14:59:10.986814Z"
    },
    "pycharm": {
     "name": "#%%\n"
    }
   },
   "outputs": [],
   "source": [
    "import random\n",
    "import torch\n",
    "from torch import nn\n",
    "from torch import optim\n",
    "import torch.nn.functional as F\n",
    "\n",
    "\n",
    "class ReplayMemory:     #存储经验\n",
    "    def __init__(self,CAPACITY):\n",
    "        self.capacity = CAPACITY\n",
    "        self.memory = []\n",
    "        self.index = 0\n",
    "        \n",
    "    def push(self,setate,action,state_next,reward):\n",
    "        if len(self.memory) < self.capacity:\n",
    "            self.memory.append(None)\n",
    "        self.memory[self.index] = Transition(state,action,state_next,reward)\n",
    "        self.index = (self.index+1) % self.capacity  \n",
    "        \"\"\"除以capacity的余数，capacity一档大于memory的长度\"\"\"\n",
    "        \n",
    "    def sample(self,batch_size):\n",
    "        return random.sample(self.memory,batch_size)      #随机抽取memorys储存的样本batch_size个\n",
    "    \n",
    "    def __len__(self):\n",
    "        return len(self.memory)\n",
    "    \n",
    "class Brain:       #根据经验，做出决策，在Brain体中搭建神经网络\n",
    "    \n",
    "    \n",
    "    def __init__(self,num_states,num_actions):      #初始化神经网络\n",
    "        self.num_actions = num_actions\n",
    "        self.memory = ReplayMemory(CAPACITY)\n",
    "        self.model = nn.Sequential()\n",
    "        self.model.add_module('fc1',nn.Linear(num_states,32))\n",
    "        self.model.add_module('relu1',nn.ReLU())\n",
    "        self.model.add_module('fc2',nn.Linear(32,32))\n",
    "        self.model.add_module('relu2',nn.ReLU())\n",
    "        self.model.add_module('fc3',nn.Linear(32,num_actions))\n",
    "        \n",
    "        print(self.model)\n",
    "        \n",
    "        self.optimizer = optim.Adam(self.model.parameters(),lr=10000)  #优化model的参数\n",
    "        \n",
    "    def replay(self):\n",
    "        \n",
    "        if len(self.memory) < BATCH_SIZE:\n",
    "            return\n",
    "        transitions = self.memory.sample(BATCH_SIZE)  #调用replaymemory类，执行随机抽样返回列表\n",
    "        batch = Transition(*zip(*transitions))\n",
    "        \n",
    "        state_batch = torch.cat(batch.state)     #变为torch张量\n",
    "        action_batch = torch.cat(batch.action)   #\n",
    "        reward_batch = torch.cat(batch.reward)\n",
    "        non_final_next_states = torch.cat([s for s in batch.next_state if s is not None])\n",
    "        \"\"\"next_state转换为张量\"\"\"\n",
    "    \n",
    "    \n",
    "        self.model.eval()   # 应用模式\n",
    "        state_action_values = self,model(state_batch).gather(1,action_batch)\n",
    "        non_final_mask = torch.ByteTensor(tuple(map(lambda s:s is not None,batch.next_state)))\n",
    "        next_state_values[non_final_mask] = self.model(non_final_next_states).max(1)[0].detach()\n",
    "\n",
    "        expected_state_action_values = reward_batch +GAMMA*next_state_values\n",
    "        self.model.train()\n",
    "\n",
    "        loss = F.smooth_l1_loss(state_action_values,expected_state_action_values.unsqueeze(1))\n",
    "\n",
    "        self.optimizer.zero_grad()\n",
    "        loss.backward()\n",
    "        self.optimizer.step()\n",
    "    \n",
    "    def decide_action(self,state,episode):\n",
    "        epsilon = 0.5*(1/(episode+1))\n",
    "        if epsilon <= np.random.uniform(0,1):\n",
    "            self.model.eval()\n",
    "            with torch.no_grad():\n",
    "                action = self.model(state).max(1)[1].view(1,1)   #类似reshape?\n",
    "        else:\n",
    "            action = torch.LongTensor([[random.randrange(self.num_actions)]])\n",
    "\n",
    "            return action\n",
    "\n",
    "#"
   ]
  }
 ],
 "metadata": {
  "kernelspec": {
   "name": "pycharm-85204c15",
   "language": "python",
   "display_name": "PyCharm (ReinforcementLearning)"
  },
  "language_info": {
   "file_extension": ".py",
   "mimetype": "text/x-python",
   "name": "python",
   "version": "3.7.9"
  },
  "nbTranslate": {
   "displayLangs": [
    "*"
   ],
   "hotkey": "alt-t",
   "langInMainMenu": true,
   "sourceLang": "en",
   "targetLang": "fr",
   "useGoogleTranslate": true
  },
  "varInspector": {
   "cols": {
    "lenName": 16,
    "lenType": 16,
    "lenVar": 40
   },
   "kernels_config": {
    "python": {
     "delete_cmd_postfix": "",
     "delete_cmd_prefix": "del ",
     "library": "var_list.py",
     "varRefreshCmd": "print(var_dic_list())"
    },
    "r": {
     "delete_cmd_postfix": ") ",
     "delete_cmd_prefix": "rm(",
     "library": "var_list.r",
     "varRefreshCmd": "cat(var_dic_list()) "
    }
   },
   "position": {
    "height": "413.722px",
    "left": "514.901px",
    "right": "20px",
    "top": "121px",
    "width": "335px"
   },
   "types_to_exclude": [
    "module",
    "function",
    "builtin_function_or_method",
    "instance",
    "_Feature"
   ],
   "window_display": false
  }
 },
 "nbformat": 4,
 "nbformat_minor": 5
}