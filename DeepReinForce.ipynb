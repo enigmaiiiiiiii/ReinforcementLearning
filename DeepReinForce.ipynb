{
 "cells": [
  {
   "cell_type": "code",
   "execution_count": 3,
   "id": "naval-humanity",
   "metadata": {
    "ExecuteTime": {
     "end_time": "2021-02-28T14:59:03.193770Z",
     "start_time": "2021-02-28T14:59:02.935602Z"
    }
   },
   "outputs": [],
   "source": [
    "yimport numpy as np\n",
    "import matplotlib.pyplot as plt\n",
    "%matplotlib inline\n",
    "import gym\n",
    "\n",
    "\n",
    "def display_frames_as_gif(frames):\n",
    "    plt.figure(figsize=(frames[0].shape[1]/72.0,frames[0].shape[0]/72.0),dpi=72.0)\n",
    "    patch = plt.imshow(frames[0])\n",
    "    plt.axis('off')\n",
    "    \n",
    "    def animate(i):\n",
    "        patch.set_data(framesmes[i])\n",
    "    anim=animation.FuncAnimation(plt.gcf(),animate,frames=len(frames),interval=50)\n",
    "    anim.save('movie_cartpole.mp4')\n",
    "    display(display_animation(anim,default_mode='loop'))"
   ]
  },
  {
   "cell_type": "code",
   "execution_count": 18,
   "id": "encouraging-front",
   "metadata": {
    "ExecuteTime": {
     "end_time": "2021-02-28T10:54:16.972250Z",
     "start_time": "2021-02-28T10:54:16.968239Z"
    }
   },
   "outputs": [],
   "source": [
    "from collections import namedtuple\n",
    "\n",
    "Transition = namedtuple('Transition',('state','action','next_state','reward'))   #相当于定义了一个Transition类"
   ]
  },
  {
   "cell_type": "code",
   "execution_count": null,
   "id": "capital-times",
   "metadata": {
    "ExecuteTime": {
     "end_time": "2021-02-28T14:59:21.483894Z",
     "start_time": "2021-02-28T14:59:21.481886Z"
    }
   },
   "outputs": [],
   "source": [
    "ENV = 'CartPole-v0'\n",
    "GAMMA = 0.99\n",
    "MAX_STEPS = 200\n",
    "NUM_EPISODES = 500\n",
    "CAPACITY = 1000"
   ]
  },
  {
   "cell_type": "code",
   "execution_count": null,
   "id": "corrected-insight",
   "metadata": {
    "ExecuteTime": {
     "end_time": "2021-02-28T15:00:40.192062Z",
     "start_time": "2021-02-28T15:00:40.180311Z"
    }
   },
   "outputs": [],
   "source": [
    "class Agent:\n",
    "    def __init__(self, num_states, num_actions):\n",
    "        self.brain = Brain(num_states, num_actions)    #创建Brain类，Brain类实例化\n",
    "\n",
    "    def update_Q_function(self, observation, action, reward, observation_next):\n",
    "        \"\"\"\n",
    "        执行update_Q_table\n",
    "        \"\"\"\n",
    "        self.brain.replay()\n",
    "\n",
    "    def get_action(self, state, step):\n",
    "        \"\"\"\n",
    "        执行action\"\"\"\n",
    "        action = self.brain.decide_action(state, step)\n",
    "        return action\n",
    "    def memorize(self,state,action,state_next,reward):\n",
    "        self.brain.memory.push(state,action,state_next,reward)\n",
    "        \n",
    "class Environment:\n",
    "    def __init__(self):\n",
    "        self.env = gym.make(ENV)\n",
    "        self.num_states = self.env.observation_space.shape[0]\n",
    "        self.num_actions = self.env.action_space.n\n",
    "        self.agent = Agent(self.num_states,self.num_actions)\n",
    "        \n",
    "    def run(self):\n",
    "        episode_10_list = np.zeros(10)\n",
    "        complete_episodes = 0\n",
    "        episode_final = False\n",
    "        frames = []\n",
    "        is_episode_final = False\n",
    "        for episode in range(NUM_EPISODES):\n",
    "            \n",
    "            observation = self.env.reset()\n",
    "            state = observation\n",
    "            state = torch.from_numpy(state).type(torch.FloatTensor)\n",
    "            state = torch.unsqueeze(state,0)\n",
    "            \"\"\"state赋值+格式转换\"\"\"\n",
    "            \n",
    "            for step in range(MAX_STEPS):\n",
    "                if is_episode_final is True:      #执行最后一次循环，将状态动画加入frames\n",
    "                    frames.append(self.env.render(mode='rgb_array'))\n",
    "                    \n",
    "                action = self.agent.get_actiosn(observation, episode)    # 动作\n",
    "                observation_next, _, done, _ = self.env.step(action.item())  # 执行action，并返回动作后的状态\n",
    "\n",
    "                if done:\n",
    "                    step_next = None\n",
    "                    episode_10_list = np.hstack((episode_10_list[1:],step+1))\n",
    "                    if step < 195:\n",
    "                        reward = torch.FloatTensor([-1.0])\n",
    "                        complete_episodes = 0\n",
    "                    else:\n",
    "                        reward = torch.FloatTensor([1.0])\n",
    "                        complete_episodes += 1\n",
    "                else:\n",
    "                    reward = torch.FloatStorage([0.0])\n",
    "                    state_next = observation_next\n",
    "                    state_next = torch.from_numpy(state_next).type(torch.FloatTensor)\n",
    "                    state_next = torch.unsqueeze(state_next,0)\n",
    "                self.agent.memorize(state, action, state_next, reward)\n",
    "                self.agent.update_Q_function()\n",
    "                state = state_next    \n",
    "                if done:\n",
    "                    print('{0} Episode:Finished after {1} time steps'.format(episode, step+1))\n",
    "                    break\n",
    "\n",
    "            if is_episode_final is True:\n",
    "                display_frames_as_gif(frames)\n",
    "                break\n",
    "                \n",
    "            if complete_episodes >= 10:\n",
    "                print('10回合连续成功')\n",
    "                is_episode_final = True"
   ]
  },
  {
   "cell_type": "code",
   "execution_count": null,
   "id": "complex-samuel",
   "metadata": {
    "ExecuteTime": {
     "end_time": "2021-02-28T14:59:10.998843Z",
     "start_time": "2021-02-28T14:59:10.986814Z"
    }
   },
   "outputs": [],
   "source": [
    "import random\n",
    "import torch\n",
    "from torch import nn\n",
    "from torch import optim\n",
    "import torch.nn.functional as F\n",
    "\n",
    "\n",
    "class ReplayMemory:     #存储经验\n",
    "    def __init__(self,CAPACITY):\n",
    "        self.capacity = CAPACITY\n",
    "        self.memory = []\n",
    "        self.index = 0\n",
    "        \n",
    "    def push(self,setate,action,state_next,reward):\n",
    "        if len(self.memory) < self.capacity:\n",
    "            self.memory.append(None)\n",
    "        self.memory[self.index] = Transition(state,action,state_next,reward)\n",
    "        self.index = (self.index+1) % self.capacity  \n",
    "        \"\"\"除以capacity的余数，capacity一档大于memory的长度\"\"\"\n",
    "        \n",
    "    def sample(self,batch_size):\n",
    "        return random.sample(self.memory,batch_size)      #随机抽取memorys储存的样本batch_size个\n",
    "    \n",
    "    def __len__(self):\n",
    "        return len(self.memory)\n",
    "    \n",
    "class Brain:       #根据经验，做出决策，在Brain体中搭建神经网络\n",
    "    \n",
    "    \n",
    "    def __init__(self,num_states,num_actions):      #初始化神经网络\n",
    "        self.num_actions = num_actions\n",
    "        self.memory = ReplayMemory(CAPACITY)\n",
    "        self.model = nn.Sequential()\n",
    "        self.model.add_module('fc1',nn.Linear(num_states,32))\n",
    "        self.model.add_module('relu1',nn.ReLU())\n",
    "        self.model.add_module('fc2',nn.Linear(32,32))\n",
    "        self.model.add_module('relu2',nn.ReLU())\n",
    "        self.model.add_module('fc3',nn.Linear(32,num_actions))\n",
    "        \n",
    "        print(self.model)\n",
    "        \n",
    "        self.optimizer = optim.Adam(self.model.parameters(),lr=10000)  #优化model的参数\n",
    "        \n",
    "    def replay(self):\n",
    "        \n",
    "        if len(self.memory) < BATCH_SIZE:\n",
    "            return\n",
    "        transitions = self.memory.sample(BATCH_SIZE)  #调用replaymemory类，执行随机抽样返回列表\n",
    "        batch = Transition(*zip(*transitions))\n",
    "        \n",
    "        state_batch = torch.cat(batch.state)     #变为torch张量\n",
    "        action_batch = torch.cat(batch.action)   #\n",
    "        reward_batch = torch.cat(batch.reward)\n",
    "        non_final_next_states = torch.cat([s for s in batch.next_state if s is not None])\n",
    "        \"\"\"next_state转换为张量\"\"\"\n",
    "    \n",
    "    \n",
    "        self.model.eval()   # 应用模式\n",
    "        state_action_values = self,model(state_batch).gather(1,action_batch)\n",
    "        non_final_mask = torch.ByteTensor(tuple(map(lambda s:s is not None,batch.next_state)))\n",
    "        next_state_values[non_final_mask] = self.model(non_final_next_states).max(1)[0].detach()\n",
    "\n",
    "        expected_state_action_values = reward_batch +GAMMA*next_state_values\n",
    "        self.model.train()\n",
    "\n",
    "        loss = F.smooth_l1_loss(state_action_values,expected_state_action_values.unsqueeze(1))\n",
    "\n",
    "        self.optimizer.zero_grad()\n",
    "        loss.backward()\n",
    "        self.optimizer.step()\n",
    "    \n",
    "    def decide_action(self,state,episode):\n",
    "        epsilon = 0.5*(1/(episode+1))\n",
    "        if epsilon <= np.random.uniform(0,1):\n",
    "            self.model.eval()\n",
    "            with torch.no_grad():\n",
    "                action = self.model(state).max(1)[1].view(1,1)   #类似reshape?\n",
    "        else:\n",
    "            action = torch.LongTensor([[random.randrange(self.num_actions)]])\n",
    "\n",
    "            return action"
   ]
  },
  {
   "cell_type": "code",
   "execution_count": null,
   "id": "integral-particle",
   "metadata": {
    "ExecuteTime": {
     "end_time": "2021-02-28T15:00:46.310117Z",
     "start_time": "2021-02-28T15:00:46.292575Z"
    }
   },
   "outputs": [],
   "source": [
    "cartpole_env = Environment()\n",
    "cartpole_env.run()"
   ]
  },
  {
   "cell_type": "code",
   "execution_count": null,
   "id": "express-peeing",
   "metadata": {
    "ExecuteTime": {
     "end_time": "2021-02-28T09:53:16.707696Z",
     "start_time": "2021-02-28T09:53:16.701695Z"
    }
   },
   "outputs": [],
   "source": [
    "y = torch.cat((x,x,x),dim = 1)\n"
   ]
  },
  {
   "cell_type": "code",
   "execution_count": 24,
   "id": "noticed-haiti",
   "metadata": {
    "ExecuteTime": {
     "end_time": "2021-02-28T10:40:06.762382Z",
     "start_time": "2021-02-28T10:40:06.755382Z"
    }
   },
   "outputs": [
    {
     "name": "stdout",
     "output_type": "stream",
     "text": [
      "[ 0.06517464  0.68891057  0.76966962 -0.48670021] [-0.57887363  0.88523132  0.3634046  -0.52274761] [ 0.08426885 -0.853623    1.57303225  0.5633819 ]\n",
      "[[ 0.06517464  0.68891057  0.76966962 -0.48670021]\n",
      " [-0.57887363  0.88523132  0.3634046  -0.52274761]\n",
      " [ 0.08426885 -0.853623    1.57303225  0.5633819 ]]\n"
     ]
    },
    {
     "data": {
      "text/plain": [
       "[(0.06517464326589212, -0.5788736320280033, 0.08426885323434079),\n",
       " (0.6889105669303601, 0.8852313185933237, -0.8536230019062087),\n",
       " (0.7696696217235907, 0.3634045988673632, 1.573032254606411),\n",
       " (-0.4867002142991205, -0.52274760975207, 0.563381899880227)]"
      ]
     },
     "execution_count": 24,
     "metadata": {},
     "output_type": "execute_result"
    }
   ],
   "source": [
    "x = np.random.randn(3,4)\n",
    "print(*x)\n",
    "print(x)\n",
    "list(zip(*x))"
   ]
  },
  {
   "cell_type": "code",
   "execution_count": 25,
   "id": "sweet-cliff",
   "metadata": {
    "ExecuteTime": {
     "end_time": "2021-02-28T11:11:04.316865Z",
     "start_time": "2021-02-28T11:11:04.306529Z"
    }
   },
   "outputs": [
    {
     "ename": "TypeError",
     "evalue": "expected Tensor as element 0 in argument 0, but got int",
     "output_type": "error",
     "traceback": [
      "\u001B[0;31m---------------------------------------------------------------------------\u001B[0m\n\u001B[0;31mTypeError\u001B[0m                                 Traceback (most recent call last)",
      "File \u001B[0;34mD:\\Anaconda3\\lib\\site-packages\\IPython\\core\\interactiveshell.py\u001B[0m, in \u001B[0;32mrun_code\u001B[0m:\nLine \u001B[0;34m3427\u001B[0m:  exec(code_obj, \u001B[36mself\u001B[39;49;00m.user_global_ns, \u001B[36mself\u001B[39;49;00m.user_ns)\n",
      "In  \u001B[0;34m[25]\u001B[0m:\nLine \u001B[0;34m7\u001B[0m:     torch.cat(c.state)\n",
      "\u001B[0;31mTypeError\u001B[0m: expected Tensor as element 0 in argument 0, but got int\n\u001B[0;31m---------------------------------------------------------------------------\u001B[0m"
     ]
    }
   ],
   "source": [
    "tr1 = Transition(1,3,4,5)\n",
    "tr2 = Transition(2,6,7,9)\n",
    "tr3 = Transition(3,4,0,1)\n",
    "tr4 = Transition(4,2,8,2)\n",
    "tr =random.sample([tr1,tr2,tr3,tr4],3)\n",
    "c = Transition(*zip(*tr))\n",
    "torch.cat(c.state)"
   ]
  },
  {
   "cell_type": "code",
   "execution_count": null,
   "id": "breathing-consultancy",
   "metadata": {
    "ExecuteTime": {
     "end_time": "2021-02-28T11:21:57.317310Z",
     "start_time": "2021-02-28T11:21:57.312314Z"
    }
   },
   "outputs": [],
   "source": [
    "torch.frc.state"
   ]
  }
 ],
 "metadata": {
  "kernelspec": {
   "name": "pycharm-85204c15",
   "language": "python",
   "display_name": "PyCharm (ReinforcementLearning)"
  },
  "language_info": {
   "file_extension": ".py",
   "mimetype": "text/x-python",
   "name": "python",
   "version": "3.7.9"
  },
  "nbTranslate": {
   "displayLangs": [
    "*"
   ],
   "hotkey": "alt-t",
   "langInMainMenu": true,
   "sourceLang": "en",
   "targetLang": "fr",
   "useGoogleTranslate": true
  },
  "varInspector": {
   "cols": {
    "lenName": 16,
    "lenType": 16,
    "lenVar": 40
   },
   "kernels_config": {
    "python": {
     "delete_cmd_postfix": "",
     "delete_cmd_prefix": "del ",
     "library": "var_list.py",
     "varRefreshCmd": "print(var_dic_list())"
    },
    "r": {
     "delete_cmd_postfix": ") ",
     "delete_cmd_prefix": "rm(",
     "library": "var_list.r",
     "varRefreshCmd": "cat(var_dic_list()) "
    }
   },
   "position": {
    "height": "413.722px",
    "left": "514.901px",
    "right": "20px",
    "top": "121px",
    "width": "335px"
   },
   "types_to_exclude": [
    "module",
    "function",
    "builtin_function_or_method",
    "instance",
    "_Feature"
   ],
   "window_display": false
  }
 },
 "nbformat": 4,
 "nbformat_minor": 5
}